{
 "cells": [
  {
   "cell_type": "markdown",
   "id": "b1e9b49f-7dfb-4f50-b6fa-a03c940f8bb1",
   "metadata": {},
   "source": [
    "Import the Python Random module for shuffling and set up the deck."
   ]
  },
  {
   "cell_type": "code",
   "execution_count": 5,
   "id": "28e321d3",
   "metadata": {},
   "outputs": [],
   "source": [
    "import random\n",
    "\n",
    "suits = ('Hearts', 'Diamonds', 'Spades', 'Clubs')\n",
    "\n",
    "ranks = ('Two', 'Three', 'Four', 'Five', 'Six', 'Seven', 'Eight', 'Nine', 'Ten', 'Jack', 'Queen', 'King', 'Ace')\n",
    "\n",
    "values = {'Two':2, 'Three':3, 'Four':4, 'Five':5, 'Six':6, 'Seven':7,\n",
    "          'Eight':8, 'Nine':9, 'Ten':10, 'Jack':10, 'Queen':10, 'King':10, 'Ace':11}\n"
   ]
  },
  {
   "cell_type": "markdown",
   "id": "7bb8d746-38a9-4471-86a2-99b0281e2469",
   "metadata": {},
   "source": [
    "Define the Card class"
   ]
  },
  {
   "cell_type": "code",
   "execution_count": 7,
   "id": "e30d6e88",
   "metadata": {},
   "outputs": [],
   "source": [
    "class Card:\n",
    "    \n",
    "    def __init__(self,suit,rank):\n",
    "        \n",
    "        self.suit = suit\n",
    "        self.rank = rank\n",
    "        self.value = values[rank]\n",
    "        \n",
    "    def __str__(self):\n",
    "        return self.rank + \" of \" + self.suit"
   ]
  },
  {
   "cell_type": "markdown",
   "id": "460f9d48-ef77-4563-9c97-bd84e62e94a4",
   "metadata": {},
   "source": [
    "Define the Deck class"
   ]
  },
  {
   "cell_type": "code",
   "execution_count": 9,
   "id": "6fe0e571",
   "metadata": {},
   "outputs": [],
   "source": [
    "class Deck:\n",
    "    \n",
    "    def __init__(self):\n",
    "        \n",
    "        self.all_cards = []\n",
    "        \n",
    "        for suit in suits:\n",
    "            for rank in ranks:\n",
    "                self.all_cards.append(Card(suit,rank))\n",
    "                \n",
    "                \n",
    "    def shuffle(self):\n",
    "        random.shuffle(self.all_cards)\n",
    "        \n",
    "    def deal_one(self):\n",
    "        return self.all_cards.pop()"
   ]
  },
  {
   "cell_type": "markdown",
   "id": "f6b59fd1-8185-4f4a-ab70-f0e321b42992",
   "metadata": {},
   "source": [
    "Define class Play."
   ]
  },
  {
   "cell_type": "code",
   "execution_count": 65,
   "id": "df6aa7ad",
   "metadata": {},
   "outputs": [],
   "source": [
    "class Play():\n",
    "    \n",
    "    new_deck = Deck()\n",
    "    new_deck.shuffle()\n",
    "    \n",
    "    \n",
    "    def __init__(self):\n",
    "\n",
    "        self.player = []\n",
    "        self.dealer = []\n",
    "        self.player_value = 0\n",
    "        self.dealer_value = 0\n",
    "        self.aces = 0\n",
    "        self.p1 = \"\"\n",
    "        self.p2 = \"\"\n",
    "        self.p3 = \"\"\n",
    "        self.d1 = \"\"\n",
    "        self.d2 = \"\"\n",
    "        self.d3 = \"\"\n",
    "        self.choice = 'xyz'\n",
    "        self.cnt = 0\n",
    "        \n",
    "    def deal_card(self):\n",
    "        # Deal the card to player and dealer\n",
    "        self.p1 = Play.new_deck.deal_one()        \n",
    "        self.d1 = Play.new_deck.deal_one()\n",
    "        self.p2 = Play.new_deck.deal_one()\n",
    "        self.d2 = Play.new_deck.deal_one()\n",
    "        \n",
    "        self.player.append(self.p1)\n",
    "        self.player.append(self.p2)\n",
    "        self.dealer.append(self.d1)\n",
    "        self.dealer.append(self.d2)\n",
    "        \n",
    "        return self.player,self.dealer\n",
    "    \n",
    "    def dealer_hit(self):\n",
    "        # Calculate Dealer's value and check if dealer Hits or Stands\n",
    "        self.dealer_value = self.d1.value + self.d2.value\n",
    "        if self.dealer_value < 17:\n",
    "            self.d3 = self.new_deck.deal_one()\n",
    "            self.dealer.append(self.d3)\n",
    "            print(\"\\nDealer's new card:\", self.d3)\n",
    "            print(\"\\nDealer hits. Dealer value less than 17\")\n",
    "            self.dealer_value += self.d3.value\n",
    "            print (\"\\nDealer Card value:\", self.dealer_value)\n",
    "        else:\n",
    "            print(\"\\nDealer stands. Dealer value greater than or equal to 17\")\n",
    "            print(\"\\nDealer card value:\", self.dealer_value)\n",
    "            \n",
    "    \n",
    "    def hit_or_stand(self):\n",
    "        # Ask player to Hit or Stand\n",
    "        x = True\n",
    "        i=2\n",
    "            \n",
    "        while x == True:\n",
    "            self.choice = input(\"\\nDo you want to 'Hit' or 'Stand':\")\n",
    "            while self.choice in ['Hit','Stand']:\n",
    "                if self.choice == 'Hit':\n",
    "                    p3 = self.new_deck.deal_one()\n",
    "                    self.player.append(p3)\n",
    "                    print(\"\\nPlayer's new card: \", self.player[i])\n",
    "                    print(\"\\nYou can take another card\")\n",
    "                    i=i+1\n",
    "                    break\n",
    "                    \n",
    "                elif self.choice == 'Stand':\n",
    "                    print(\"\\nDealer's second card is now open: \", self.dealer[1])\n",
    "                    x = False\n",
    "                    break\n",
    "                \n",
    "        #return self.choice\n",
    "            \n",
    "        \n",
    "    def hand(self):\n",
    "        # Calculate players value and adjust for Ace\n",
    "        self.player_value = self.p1.value + self.p2.value\n",
    "        print (\"\\nPlayer card value:\" ,self.player_value)\n",
    "        for i in range(2,len(self.player)):\n",
    "            self.player_value = self.player_value + self.player[i].value\n",
    "\n",
    "        for i in range(0,len(self.player)):\n",
    "\n",
    "            if (self.player_value) >= 21 and (self.player[i].rank == 'Ace'):\n",
    "                self.player_value = self.player_value -10\n",
    "                self.cnt += 1\n",
    "                \n",
    "        return (self.player_value,self.cnt)"
   ]
  },
  {
   "cell_type": "markdown",
   "id": "23a89d00-622b-4474-b596-e0b43a072e38",
   "metadata": {},
   "source": [
    "Define class Stake to check total coins player has."
   ]
  },
  {
   "cell_type": "code",
   "execution_count": 36,
   "id": "abf84081",
   "metadata": {},
   "outputs": [],
   "source": [
    "class Stake:\n",
    "    \n",
    "    def __init__(self):\n",
    "        self.bet = 0\n",
    "        self.total = 100\n",
    "        \n",
    "    def win(self):\n",
    "        self.total = self.total + self.bet\n",
    "        print(f\"You have {self.total} coins.\")\n",
    "        return self.total\n",
    "    \n",
    "    def lose(self):\n",
    "        self.total = self.total-self.bet\n",
    "        print(f\"You have {self.total} coins.\")\n",
    "        return self.total"
   ]
  },
  {
   "cell_type": "markdown",
   "id": "8cab50da-e857-4d9d-990c-4241e5b80172",
   "metadata": {},
   "source": [
    "Difine a function call_bet(total) to ask player to place a bet."
   ]
  },
  {
   "cell_type": "code",
   "execution_count": 44,
   "id": "4f7e0b7b",
   "metadata": {},
   "outputs": [],
   "source": [
    "def call_bet(total):\n",
    "    call = True\n",
    "    while call==True:\n",
    "        try:\n",
    "            bet = int(input(\"\\nPlease enter your bet: \"))\n",
    "            call = False\n",
    "        except ValueError:\n",
    "            print(\"\\nOops!  That was not a valid number.  Try again...\")\n",
    "            call= True\n",
    "        else:\n",
    "            if bet not in range(1,total+1):\n",
    "                print(\"\\nNumber out of range. Try again...\")\n",
    "                call = True\n",
    "                continue\n",
    "                \n",
    "        return bet\n"
   ]
  },
  {
   "cell_type": "markdown",
   "id": "4abac7f9-f9df-4c36-90ea-89d09eac3e10",
   "metadata": {},
   "source": [
    "Define a function win_check(player_value,dealer_value) to check who wins"
   ]
  },
  {
   "cell_type": "code",
   "execution_count": 50,
   "id": "eeb87959",
   "metadata": {},
   "outputs": [],
   "source": [
    "def win_check(player_value,dealer_value):\n",
    "    win = False\n",
    "    tie = False\n",
    "    \n",
    "    if player_value >=21:\n",
    "        win =False\n",
    "        print(\"\\nPlayer Busts!\")\n",
    "        \n",
    "    elif dealer_value >= 21:\n",
    "        win = True\n",
    "        print(\"\\nDealer Busts!\")\n",
    "        \n",
    "    elif player_value > dealer_value:\n",
    "        win = True\n",
    "        print(\"\\nPlayer wins!\")\n",
    "        \n",
    "    elif player_value < dealer_value:\n",
    "        win = False\n",
    "        print(\"\\nPlayer loses\")\n",
    "        \n",
    "    elif player_value == dealer_value:\n",
    "        tie = True\n",
    "        print(\"\\nIt's a Tie!\")\n",
    "        \n",
    "        \n",
    "    return (win,tie)\n",
    "    "
   ]
  },
  {
   "cell_type": "markdown",
   "id": "5d96a196-3727-4497-bc07-0d689be5a1bd",
   "metadata": {},
   "source": [
    "Define a function replay() to ask if player wants to play again"
   ]
  },
  {
   "cell_type": "code",
   "execution_count": 54,
   "id": "8684991d",
   "metadata": {},
   "outputs": [],
   "source": [
    "def replay ():\n",
    "    repl = False\n",
    "    while repl not in [\"Y\", \"N\"]:\n",
    "        repl = input(\"\\nDo you want to play again: Y or N  \")\n",
    "        \n",
    "    return repl"
   ]
  },
  {
   "cell_type": "markdown",
   "id": "0c41c16a-96c1-4935-b4ba-c5379ace35b2",
   "metadata": {},
   "source": [
    "Main game loop"
   ]
  },
  {
   "cell_type": "code",
   "execution_count": 58,
   "id": "48080fd5",
   "metadata": {},
   "outputs": [
    {
     "name": "stdout",
     "output_type": "stream",
     "text": [
      "\n",
      "You have 100 coins\n",
      "\n"
     ]
    },
    {
     "name": "stdin",
     "output_type": "stream",
     "text": [
      "\n",
      "Please enter your bet:  20\n"
     ]
    },
    {
     "name": "stdout",
     "output_type": "stream",
     "text": [
      "\n",
      " Here are your cards\n",
      "\n",
      "\n",
      "Palyer's first card:  Two of Spades\n",
      "\n",
      "Player's second card:  Queen of Hearts\n",
      "\n",
      "Dealer's first card:  Two of Hearts\n",
      "\n",
      "Dealer's second card is face down\n"
     ]
    },
    {
     "name": "stdin",
     "output_type": "stream",
     "text": [
      "\n",
      " Do you want to raise the bet? : 'Y' or 'N' Y\n",
      "\n",
      "Please enter your bet:  20\n",
      "\n",
      "Do you want to 'Hit' or 'Stand': Hit\n"
     ]
    },
    {
     "name": "stdout",
     "output_type": "stream",
     "text": [
      "\n",
      "Player's new card:  Nine of Diamonds\n",
      "\n",
      "You can take another card\n"
     ]
    },
    {
     "name": "stdin",
     "output_type": "stream",
     "text": [
      "\n",
      "Do you want to 'Hit' or 'Stand': Stand\n"
     ]
    },
    {
     "name": "stdout",
     "output_type": "stream",
     "text": [
      "\n",
      "Dealer's second card is now open:  Queen of Diamonds\n",
      "\n",
      "Player card value: 12\n",
      "Your total card value: 21\n",
      "\n",
      "Dealer's new card: Six of Spades\n",
      "\n",
      "Dealer hits. Dealer value less than 17\n",
      "\n",
      "Dealer Card value: 18\n",
      "\n",
      "Player Busts!\n",
      "You have 60 coins.\n"
     ]
    },
    {
     "name": "stdin",
     "output_type": "stream",
     "text": [
      "\n",
      "Do you want to play again: Y or N   N\n"
     ]
    }
   ],
   "source": [
    "game_on = True\n",
    "while game_on == True:\n",
    "    '''\n",
    "\n",
    "    print (\"Welcome to the game of BlackJack\")\n",
    "    print (\"\\nRules: \\nThe goal of blackjack is simple. \\nAll one needs to do to win is have a higher hand value than the dealer, without going over 21. \\nPlayers are dealt two cards and can then choose to “hit” (receive additional cards) or “stand” (keep their current hand). \\nThe dealer also receives two cards, but only one is face up. \\nIf a player’s hand exceeds 21, they “bust” and lose the game. \\nIf the dealer busts\\n\")\n",
    "    '''\n",
    "    print(\"\\nYou have 100 coins\\n\")\n",
    "    \n",
    "    stake = Stake()\n",
    "    stake.bet = call_bet(stake.total)\n",
    "\n",
    "    \n",
    "    play = Play()\n",
    "    print(\"\\n Here are your cards\\n\")\n",
    "    play.deal_card()\n",
    "    print(\"\\nPalyer's first card: \", play.player[0])\n",
    "    print(\"\\nPlayer's second card: \", play.player[1])\n",
    "    print(\"\\nDealer's first card: \", play.dealer[0])\n",
    "    print(\"\\nDealer's second card is face down\")\n",
    "    \n",
    "    #play.hand()\n",
    "    \n",
    "    bet_again = 'xyz'\n",
    "    bet_on = True\n",
    "    while bet_again not in [\"Y\",\"N\"]:\n",
    "        bet_again = input (\"\\n Do you want to raise the bet? : 'Y' or 'N'\")\n",
    "        if bet_again == 'Y':\n",
    "            stake.bet += call_bet(stake.total - stake.bet)\n",
    "            \n",
    "        else:\n",
    "            bet_on = False\n",
    "        \n",
    "    play.hit_or_stand()\n",
    "    player_val, count = play.hand()\n",
    "    \n",
    "    print(\"Your total card value:\", play.player_value)\n",
    "    \n",
    "    play.dealer_hit()\n",
    "        \n",
    "    while (count > 0) and (play.dealer_value > play.player_value <= 21):\n",
    "        play.player_value = play.player_value + 10\n",
    "        count = count -1\n",
    "        \n",
    "    win_y,tie_y = win_check(play.player_value,play.dealer_value)\n",
    "    if win_y == True:\n",
    "        stake.win()\n",
    "    else:\n",
    "        stake.lose()\n",
    "    \n",
    "    again = replay()\n",
    "    if again ==\"Y\":\n",
    "        game_on = True\n",
    "    else:\n",
    "        game_on = False"
   ]
  },
  {
   "cell_type": "code",
   "execution_count": null,
   "id": "3a1df0b8",
   "metadata": {},
   "outputs": [],
   "source": [
    "x= ['a','b','c','d','e','f','g','h']\n",
    "x.pop()"
   ]
  },
  {
   "cell_type": "code",
   "execution_count": null,
   "id": "0bb81b07",
   "metadata": {},
   "outputs": [],
   "source": [
    "x \n"
   ]
  },
  {
   "cell_type": "code",
   "execution_count": null,
   "id": "44ce7c08",
   "metadata": {},
   "outputs": [],
   "source": [
    "len(x)"
   ]
  },
  {
   "cell_type": "code",
   "execution_count": null,
   "id": "3e3fee08",
   "metadata": {},
   "outputs": [],
   "source": []
  }
 ],
 "metadata": {
  "kernelspec": {
   "display_name": "Python [conda env:base] *",
   "language": "python",
   "name": "conda-base-py"
  },
  "language_info": {
   "codemirror_mode": {
    "name": "ipython",
    "version": 3
   },
   "file_extension": ".py",
   "mimetype": "text/x-python",
   "name": "python",
   "nbconvert_exporter": "python",
   "pygments_lexer": "ipython3",
   "version": "3.12.7"
  }
 },
 "nbformat": 4,
 "nbformat_minor": 5
}

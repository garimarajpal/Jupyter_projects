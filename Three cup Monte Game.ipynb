{
 "cells": [
  {
   "cell_type": "markdown",
   "id": "65e390cf-1329-4c78-b53a-20fc4aacc3a2",
   "metadata": {},
   "source": [
    "Import shuffle from random"
   ]
  },
  {
   "cell_type": "code",
   "execution_count": 11,
   "id": "05e34069",
   "metadata": {},
   "outputs": [],
   "source": [
    "from random import shuffle"
   ]
  },
  {
   "cell_type": "markdown",
   "id": "8bbf8b91-b9ac-4638-a223-286e227b09ea",
   "metadata": {},
   "source": [
    "Define a function to shuffle the list"
   ]
  },
  {
   "cell_type": "code",
   "execution_count": 14,
   "id": "10dec145",
   "metadata": {},
   "outputs": [],
   "source": [
    "def shuffle_list(mylist):\n",
    "    \n",
    "    shuffle(mylist)\n",
    "    \n",
    "    return mylist"
   ]
  },
  {
   "cell_type": "markdown",
   "id": "a362478b-a365-4163-9c78-f712b2d29b0a",
   "metadata": {},
   "source": [
    "Define a functio to ask player to guess a number '0','1' or '2'"
   ]
  },
  {
   "cell_type": "code",
   "execution_count": 17,
   "id": "3a4a1594",
   "metadata": {},
   "outputs": [],
   "source": [
    "def player_guess():\n",
    "    \n",
    "    guess = \"\"\n",
    "    \n",
    "    while guess not in [\"0\",\"1\",\"2\"]:\n",
    "        \n",
    "        guess = input(\"pick a number: 0,1, or 2: \")\n",
    "        \n",
    "    return int(guess)"
   ]
  },
  {
   "cell_type": "markdown",
   "id": "cf2816fd-933c-465f-be27-97998f756967",
   "metadata": {},
   "source": [
    "Define a function to check if player guess is correct or not"
   ]
  },
  {
   "cell_type": "code",
   "execution_count": 20,
   "id": "f8aba8ae",
   "metadata": {},
   "outputs": [],
   "source": [
    "def check_guess(mylist,guess):\n",
    "    \n",
    "    if mylist[guess] == \"O\":\n",
    "        print(\"Correct Guess!\")\n",
    "        print(mylist)\n",
    "    else:\n",
    "        print(\"Wrong Guess.\")\n",
    "        print(mylist)\n",
    "        "
   ]
  },
  {
   "cell_type": "markdown",
   "id": "07871241-16dc-499c-b119-7e1a8a67e84f",
   "metadata": {},
   "source": [
    "Main Game Logic\n",
    "\n",
    "The game initializes with three cups, with the ball hidden under one of them (chosen randomly).\n",
    "\n",
    "The cups are shuffled, and the player is prompted to guess which cup the ball is under.\n",
    "\n",
    "The game checks whether the player's guess is correct, then reveals the final positions of the cups."
   ]
  },
  {
   "cell_type": "code",
   "execution_count": 23,
   "id": "c3e9bc1d",
   "metadata": {},
   "outputs": [
    {
     "name": "stdout",
     "output_type": "stream",
     "text": [
      "Welcome to Three Cup Monte!\n"
     ]
    },
    {
     "name": "stdin",
     "output_type": "stream",
     "text": [
      "pick a number: 0,1, or 2:  0\n"
     ]
    },
    {
     "name": "stdout",
     "output_type": "stream",
     "text": [
      "Wrong Guess.\n",
      "[' ', 'O', ' ']\n"
     ]
    }
   ],
   "source": [
    "print (\"Welcome to Three Cup Monte!\")\n",
    "mylist = [\" \",\"O\",\" \"]\n",
    "\n",
    "mixed_list = shuffle_list(mylist)\n",
    "\n",
    "guess = player_guess()\n",
    "\n",
    "check_guess(mixed_list,guess)"
   ]
  },
  {
   "cell_type": "code",
   "execution_count": null,
   "id": "37520a72",
   "metadata": {},
   "outputs": [],
   "source": []
  }
 ],
 "metadata": {
  "kernelspec": {
   "display_name": "Python [conda env:base] *",
   "language": "python",
   "name": "conda-base-py"
  },
  "language_info": {
   "codemirror_mode": {
    "name": "ipython",
    "version": 3
   },
   "file_extension": ".py",
   "mimetype": "text/x-python",
   "name": "python",
   "nbconvert_exporter": "python",
   "pygments_lexer": "ipython3",
   "version": "3.12.7"
  }
 },
 "nbformat": 4,
 "nbformat_minor": 5
}

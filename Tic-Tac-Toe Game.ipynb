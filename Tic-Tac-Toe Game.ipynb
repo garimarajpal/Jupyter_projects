{
 "cells": [
  {
   "cell_type": "markdown",
   "id": "f3beeec5",
   "metadata": {},
   "source": [
    "# TIC - TAC -TOE"
   ]
  },
  {
   "cell_type": "code",
   "execution_count": 2,
   "id": "d9fbe058",
   "metadata": {},
   "outputs": [
    {
     "name": "stdout",
     "output_type": "stream",
     "text": [
      "Requirement already satisfied: ipython in c:\\users\\garim\\anaconda3\\lib\\site-packages (8.27.0)\n",
      "Requirement already satisfied: decorator in c:\\users\\garim\\anaconda3\\lib\\site-packages (from ipython) (5.1.1)\n",
      "Requirement already satisfied: jedi>=0.16 in c:\\users\\garim\\anaconda3\\lib\\site-packages (from ipython) (0.19.1)\n",
      "Requirement already satisfied: matplotlib-inline in c:\\users\\garim\\anaconda3\\lib\\site-packages (from ipython) (0.1.6)\n",
      "Requirement already satisfied: prompt-toolkit<3.1.0,>=3.0.41 in c:\\users\\garim\\anaconda3\\lib\\site-packages (from ipython) (3.0.43)\n",
      "Requirement already satisfied: pygments>=2.4.0 in c:\\users\\garim\\anaconda3\\lib\\site-packages (from ipython) (2.15.1)\n",
      "Requirement already satisfied: stack-data in c:\\users\\garim\\anaconda3\\lib\\site-packages (from ipython) (0.2.0)\n",
      "Requirement already satisfied: traitlets>=5.13.0 in c:\\users\\garim\\anaconda3\\lib\\site-packages (from ipython) (5.14.3)\n",
      "Requirement already satisfied: colorama in c:\\users\\garim\\anaconda3\\lib\\site-packages (from ipython) (0.4.6)\n",
      "Requirement already satisfied: parso<0.9.0,>=0.8.3 in c:\\users\\garim\\anaconda3\\lib\\site-packages (from jedi>=0.16->ipython) (0.8.3)\n",
      "Requirement already satisfied: wcwidth in c:\\users\\garim\\anaconda3\\lib\\site-packages (from prompt-toolkit<3.1.0,>=3.0.41->ipython) (0.2.5)\n",
      "Requirement already satisfied: executing in c:\\users\\garim\\anaconda3\\lib\\site-packages (from stack-data->ipython) (0.8.3)\n",
      "Requirement already satisfied: asttokens in c:\\users\\garim\\anaconda3\\lib\\site-packages (from stack-data->ipython) (2.0.5)\n",
      "Requirement already satisfied: pure-eval in c:\\users\\garim\\anaconda3\\lib\\site-packages (from stack-data->ipython) (0.2.2)\n",
      "Requirement already satisfied: six in c:\\users\\garim\\anaconda3\\lib\\site-packages (from asttokens->stack-data->ipython) (1.16.0)\n",
      "Note: you may need to restart the kernel to use updated packages.\n"
     ]
    }
   ],
   "source": [
    "pip install ipython"
   ]
  },
  {
   "cell_type": "code",
   "execution_count": 4,
   "id": "fcd9e3f3",
   "metadata": {},
   "outputs": [],
   "source": [
    "from IPython.display import clear_output\n",
    "# display empty board\n",
    "\n",
    "def display_board(board):\n",
    "    clear_output()\n",
    "    print(board[1]+\"|\"+board[2]+\"|\"+board[3])\n",
    "    print(\"-----\")\n",
    "    print(board[4]+\"|\"+board[5]+\"|\"+board[6])\n",
    "    print(\"-----\")\n",
    "    print(board[7]+\"|\"+board[8]+\"|\"+board[9])\n",
    "    \n",
    "    "
   ]
  },
  {
   "cell_type": "code",
   "execution_count": 6,
   "id": "e6c5823f",
   "metadata": {},
   "outputs": [],
   "source": [
    "test_board = [\"-\",\" \",\" \",\" \",\" \",\" \",\" \",\" \",\" \",\" \"]"
   ]
  },
  {
   "cell_type": "code",
   "execution_count": 8,
   "id": "a107e66d",
   "metadata": {},
   "outputs": [],
   "source": [
    "# Assign X or O to both players\n",
    "def player_input():\n",
    "    \n",
    "    sign = \"wrong\"\n",
    "    while sign not in [\"X\",\"O\"]:\n",
    "        \n",
    "        sign = input(\"Player 1 Choose X or O: \")\n",
    "        player1 = sign\n",
    "        \n",
    "        if sign not in [\"X\",\"O\"]:\n",
    "            print(\"Not a correct sign! Choose again.\")\n",
    "        \n",
    "        if player1 == \"X\":\n",
    "            player2 = \"O\"\n",
    "        else:\n",
    "            player2 = \"X\"\n",
    "    \n",
    "    return (player1, player2)\n",
    "            "
   ]
  },
  {
   "cell_type": "code",
   "execution_count": 10,
   "id": "b2828b6c",
   "metadata": {},
   "outputs": [],
   "source": [
    "# Get input for a position on the board and check if selected position is empty\n",
    "\n",
    "def place_input(available_spots):\n",
    "    \n",
    "    position =\" \"\n",
    "    within_range = False\n",
    "    spot = False\n",
    "    while position.isdigit() == False or within_range == False or spot == False :\n",
    "        \n",
    "        position = input(\"Choose a position from 1 to 9: \")\n",
    "        \n",
    "        if position.isdigit()==False:\n",
    "            print(\"Not a digit. Enter valid digit.\")\n",
    "            \n",
    "        if position.isdigit()==True:\n",
    "            if int(position) in range(1,10):\n",
    "                within_range = True\n",
    "            else:\n",
    "                within_range = False\n",
    "                print(\"Out of range!\")\n",
    "                \n",
    "        if within_range == True:\n",
    "            if int(position) in available_spots:\n",
    "                spot = True\n",
    "                available_spots.remove(int(position))\n",
    "                print(available_spots)\n",
    "            else:\n",
    "                spot = False\n",
    "                print(\"Position already filled!\")\n",
    "                \n",
    "    return int(position)\n",
    "    "
   ]
  },
  {
   "cell_type": "code",
   "execution_count": 12,
   "id": "6a185026",
   "metadata": {},
   "outputs": [],
   "source": [
    "# Update the test board according to choosen sign and position\n",
    "\n",
    "def board_update(test_board,position,sign):\n",
    "    \n",
    "    test_board[position] = sign\n",
    "    display_board(test_board)"
   ]
  },
  {
   "cell_type": "code",
   "execution_count": 14,
   "id": "2b265cc7",
   "metadata": {},
   "outputs": [],
   "source": [
    "# Check if any of the player wins\n",
    "\n",
    "def win_check(board,sign):\n",
    "    return (board[1] == sign and board[2] == sign and board[3] == sign) or (board[4] == sign and board[5] == sign and board[6] == sign) or (board[7] == sign and board[8] == sign and board[9] == sign) or (board[1] == sign and board[4] == sign and board[7] == sign) or (board[2] == sign and board[5] == sign and board[8] == sign) or (board[3] == sign and board[6] == sign and board[9] == sign) or (board[1] == sign and board[5] == sign and board[9] == sign) or (board[3] == sign and board[5] == sign and board[7] == sign)"
   ]
  },
  {
   "cell_type": "code",
   "execution_count": 16,
   "id": "8ccebcdf",
   "metadata": {},
   "outputs": [],
   "source": [
    "# check if the board is full and match is draw\n",
    "\n",
    "def full_board(board):\n",
    "    if win_check(board, \"X\") == False and win_check(board, \"O\") == False and available_spots == []:\n",
    "        print(\"Match Draw. Board is Full!\")\n",
    "        return True\n",
    "    else:\n",
    "        return False"
   ]
  },
  {
   "cell_type": "code",
   "execution_count": 18,
   "id": "f8c285cb",
   "metadata": {},
   "outputs": [],
   "source": [
    "# ask if the players want to play again\n",
    "\n",
    "def replay ():\n",
    "    repl = False\n",
    "    while repl not in [\"Y\", \"N\"]:\n",
    "        repl = input(\"Do you want to play again: Y or N  \")\n",
    "        \n",
    "    return repl"
   ]
  },
  {
   "cell_type": "markdown",
   "id": "afcb6640-69cb-46cb-bf4b-d2740a283205",
   "metadata": {},
   "source": [
    "Main Game Logic\n",
    "\n",
    "The goal of the game is to get three of your own marks in a horizontal, vertical, or diagonal line on the grid.\n",
    "    \n",
    "The first player to achieve this wins. If all squares are filled without any player getting three marks in a row, the game ends in a draw.\n",
    "\n",
    "Players input their moves by specifying the number of the position they want to place their symbol (1-9, corresponding to the 9 squares on the board).\n",
    "\n",
    "The game alternates between Player 1 and Player 2 until there is a winner or a draw."
   ]
  },
  {
   "cell_type": "code",
   "execution_count": 20,
   "id": "094631de",
   "metadata": {},
   "outputs": [
    {
     "name": "stdout",
     "output_type": "stream",
     "text": [
      "X|O|X\n",
      "-----\n",
      " |O| \n",
      "-----\n",
      "X|O| \n",
      "Player 2 wins!\n"
     ]
    },
    {
     "name": "stdin",
     "output_type": "stream",
     "text": [
      "Do you want to play again: Y or N   N\n"
     ]
    }
   ],
   "source": [
    "# Tic Tac Toe Game\n",
    "\n",
    "game = False\n",
    "while game == False:\n",
    "\n",
    "    play = False\n",
    "    available_spots = [1,2,3,4,5,6,7,8,9]\n",
    "\n",
    "    display_board(test_board)\n",
    "    print (\"Lets play Tic Tac Toe!!!\")\n",
    "    player1_sign,player2_sign = player_input()\n",
    "\n",
    "    while play == False:\n",
    "        print(\" Player 1, Your Turn\")\n",
    "\n",
    "        place = place_input(available_spots)\n",
    "        board_update(test_board,place,player1_sign)\n",
    "\n",
    "        win = win_check(test_board,player1_sign)\n",
    "        if win == True:\n",
    "            print(\"Player 1 wins!\")\n",
    "            play = True\n",
    "            break\n",
    "        draw = full_board(test_board)\n",
    "        if draw == True:\n",
    "            play = True\n",
    "            break\n",
    "\n",
    "        print(\" Player 2, Your Turn\")\n",
    "\n",
    "        place = place_input(available_spots)\n",
    "        board_update(test_board,place,player2_sign)\n",
    "\n",
    "        win = win_check(test_board,player2_sign)\n",
    "        if win == True:\n",
    "            print(\"Player 2 wins!\")\n",
    "            play = True\n",
    "            break\n",
    "\n",
    "        draw = full_board(test_board)\n",
    "        if draw == True:\n",
    "            play = True\n",
    "            break\n",
    "\n",
    "        \n",
    "    again = replay ()\n",
    "    \n",
    "    if again ==\"Y\":\n",
    "        game = False\n",
    "        test_board = [\"-\",\" \",\" \",\" \",\" \",\" \",\" \",\" \",\" \",\" \"]\n",
    "    else:\n",
    "        game = True\n",
    "\n"
   ]
  },
  {
   "cell_type": "raw",
   "id": "a1435347",
   "metadata": {},
   "source": []
  },
  {
   "cell_type": "code",
   "execution_count": null,
   "id": "7c0999f6",
   "metadata": {},
   "outputs": [],
   "source": []
  }
 ],
 "metadata": {
  "kernelspec": {
   "display_name": "Python [conda env:base] *",
   "language": "python",
   "name": "conda-base-py"
  },
  "language_info": {
   "codemirror_mode": {
    "name": "ipython",
    "version": 3
   },
   "file_extension": ".py",
   "mimetype": "text/x-python",
   "name": "python",
   "nbconvert_exporter": "python",
   "pygments_lexer": "ipython3",
   "version": "3.12.7"
  }
 },
 "nbformat": 4,
 "nbformat_minor": 5
}
